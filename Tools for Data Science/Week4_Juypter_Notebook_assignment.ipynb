{
 "cells": [
  {
   "cell_type": "markdown",
   "id": "98bbe032",
   "metadata": {},
   "source": [
    "# My Jupyter Notebook on IBM Watson Studio"
   ]
  },
  {
   "cell_type": "markdown",
   "id": "499ab8a1",
   "metadata": {},
   "source": [
    "**Name: Sanskrati Jain**</br>\n",
    "Desired occupation: Data Engineer"
   ]
  },
  {
   "cell_type": "markdown",
   "id": "4f29deff",
   "metadata": {},
   "source": [
    "*I am interested in data science because I have a lot of questions and am a naturally curious person, and I believe that this is a career that was created just for me. In addition, data science is already a very popular area, and career opportunities will grow as data volumes continue to rise.*"
   ]
  },
  {
   "cell_type": "markdown",
   "id": "46c90f15",
   "metadata": {},
   "source": [
    "### The below code will print the output of 1+1"
   ]
  },
  {
   "cell_type": "code",
   "execution_count": 1,
   "id": "a5f6a285",
   "metadata": {},
   "outputs": [
    {
     "name": "stdout",
     "output_type": "stream",
     "text": [
      "Sum:  2\n"
     ]
    }
   ],
   "source": [
    "a = 1\n",
    "b = 1\n",
    "c = a + b\n",
    "print(\"Sum: \",c)"
   ]
  },
  {
   "cell_type": "markdown",
   "id": "0514274f",
   "metadata": {},
   "source": [
    "***\n",
    "**Code**\n",
    "`print(\"My favorite Anime\")`\n",
    "</br>\n",
    "\n",
    "**bulleted list of anime**\n",
    "- Naruto\n",
    "- Spy X Family\n",
    "- Your lie in April\n",
    "\n",
    "**Numbered list of anime characters**\n",
    "1. Jiraiya Sensei\n",
    "2. Lady Tusnade\n",
    "3. Yor\n",
    "\n",
    "**A Quote by Madara**\n",
    "> **In this world, wherever there is light – there are also shadows. As long as the concept of winners exists, there must also be losers. The selfish desire of wanting to maintain peace causes wars, and hatred is born to protect love**\n",
    "\n",
    "**Hyperlinks**\n",
    "[Favorite Anime Video](https://youtu.be/xH2IVdO06LI)"
   ]
  },
  {
   "cell_type": "code",
   "execution_count": null,
   "id": "f43e27b0",
   "metadata": {},
   "outputs": [],
   "source": []
  }
 ],
 "metadata": {
  "kernelspec": {
   "display_name": "Python 3 (ipykernel)",
   "language": "python",
   "name": "python3"
  },
  "language_info": {
   "codemirror_mode": {
    "name": "ipython",
    "version": 3
   },
   "file_extension": ".py",
   "mimetype": "text/x-python",
   "name": "python",
   "nbconvert_exporter": "python",
   "pygments_lexer": "ipython3",
   "version": "3.9.13"
  }
 },
 "nbformat": 4,
 "nbformat_minor": 5
}
